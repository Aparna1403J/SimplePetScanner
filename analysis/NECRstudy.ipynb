{
 "cells": [
  {
   "cell_type": "code",
   "execution_count": 1,
   "metadata": {},
   "outputs": [],
   "source": [
    "import SiemensQuadraProperties as sqp\n",
    "import ExplorerProperties as ep\n",
    "from ActivityTools import *"
   ]
  },
  {
   "cell_type": "code",
   "execution_count": 2,
   "metadata": {},
   "outputs": [],
   "source": [
    "from SimulationDataset import *\n",
    "import matplotlib.pyplot as mpl"
   ]
  },
  {
   "cell_type": "code",
   "execution_count": 3,
   "metadata": {},
   "outputs": [],
   "source": [
    "# the activity calculation is usually quoted divided by the TOTAL PHANTOM VOLUME\n",
    "# explorer paper says 22L for 70cm phantom, I say 22.64\n",
    "# so 1e9 Bq == 44kBq/cc (or ml, since cc==ml)\n",
    "# from the explorer plots, 16 kBq/cc == 0.36e9 Bq"
   ]
  },
  {
   "cell_type": "code",
   "execution_count": 4,
   "metadata": {},
   "outputs": [
    {
     "name": "stdout",
     "output_type": "stream",
     "text": [
      "363801.0 events loaded (1000000 simulated) with average 1.1635399572843395 hits/event\n",
      "107165.0 events loaded (1000000 simulated) with average 1.0078010544487472 hits/event\n",
      "8411 3343 5068\n",
      "9421 3797 5624\n",
      "10231 4299 5932\n",
      "10584 4687 5897\n",
      "11080 5072 6008\n",
      "11261 5312 5949\n",
      "11357 5526 5831\n",
      "11272 5667 5605\n",
      "10869 5694 5175\n",
      "10574 5788 4786\n",
      "9873 5505 4368\n",
      "9468 5358 4110\n",
      "8964 5204 3760\n",
      "8232 4904 3328\n",
      "7484 4586 2898\n",
      "7093 4360 2733\n",
      "6490 4138 2352\n",
      "5706 3673 2033\n",
      "5282 3421 1861\n",
      "4679 3067 1612\n",
      "4379 2885 1494\n",
      "3918 2579 1339\n",
      "3506 2324 1182\n",
      "3268 2241 1027\n",
      "2874 1932 942\n",
      "2452 1702 750\n",
      "2207 1519 688\n",
      "1988 1376 612\n",
      "1756 1241 515\n",
      "1624 1124 500\n",
      "1436 1010 426\n",
      "1192 823 369\n",
      "1125 805 320\n",
      "1020 724 296\n",
      "871 598 273\n",
      "396061.0 events loaded (1000000 simulated) with average 1.1579201183656054 hits/event\n",
      "235404.0 events loaded (1000000 simulated) with average 1.0007476508470545 hits/event\n",
      "6960 2644 4316\n",
      "7904 3191 4713\n",
      "8459 3463 4996\n",
      "9009 3945 5064\n",
      "9457 4223 5234\n",
      "9640 4325 5315\n",
      "9750 4670 5080\n",
      "9593 4826 4767\n",
      "9225 4750 4475\n",
      "8948 4690 4258\n",
      "8547 4656 3891\n",
      "7981 4391 3590\n",
      "7580 4393 3187\n",
      "7228 4243 2985\n",
      "6514 3831 2683\n",
      "6016 3615 2401\n",
      "5541 3479 2062\n",
      "5106 3184 1922\n",
      "4567 2890 1677\n",
      "4206 2706 1500\n",
      "3695 2398 1297\n",
      "3396 2223 1173\n",
      "3132 2122 1010\n",
      "2777 1858 919\n",
      "2453 1655 798\n",
      "2269 1543 726\n",
      "1914 1299 615\n",
      "1743 1189 554\n",
      "1628 1131 497\n",
      "1430 1006 424\n",
      "1274 872 402\n",
      "1061 693 368\n",
      "948 656 292\n",
      "831 559 272\n",
      "731 503 228\n"
     ]
    },
    {
     "data": {
      "image/png": "[encoded data removed]",
      "text/plain": [
       "<Figure size 432x288 with 1 Axes>"
      ]
     },
     "metadata": {
      "needs_background": "light"
     },
     "output_type": "display_data"
    }
   ],
   "source": [
    "# Include background\n",
    "def NECRatTimeBetterWithZ( tracerData, crystalData, crystalActivity, detectorRadius, simulationWindow=1E-2, coincidenceWindow=4.7E-9, zWindow=325.0 ):\n",
    "    \n",
    "    necrAtTime = []\n",
    "    activityAtTime = []\n",
    "    for time in range( 0, 700, 20 ):\n",
    "        timeSec = float(time) * 60.0\n",
    "        activity = F18ActivityAtTime( 1100E6, timeSec )\n",
    "\n",
    "        necr = DetectedCoincidences( [activity, crystalActivity], [tracerData, crystalData], simulationWindow, coincidenceWindow, detectorRadius, ZMin=-zWindow, ZMax=zWindow )\n",
    "        necrAtTime.append( necr )\n",
    "        activityAtTime.append( activity )\n",
    "    \n",
    "    return activityAtTime, necrAtTime\n",
    "\n",
    "labels = [ \"Siemens\", \"Explorer\" ]\n",
    "tracerData = CreateDataset( 1024, \"Siemens\", \"LinearF18\", 1000000, 435.0, 585.0 )\n",
    "crystalData = CreateDataset( 1024, \"Siemens\", \"Siemens\", 1000000, 435.0, 585.0 )\n",
    "activityAtTime, necrAtTime = NECRatTimeBetterWithZ( tracerData, crystalData, sqp.Lu176decaysInMass( sqp.DetectorMass() ), sqp.DetectorRadius() )\n",
    "mpl.plot( activityAtTime, necrAtTime, label=labels[0] )\n",
    "\n",
    "tracerData = CreateDataset( 1850, \"Explorer\", \"LinearF18\", 1000000, 430.0, 645.0 )\n",
    "crystalData = CreateDataset( 1850, \"Explorer\", \"Explorer\", 1000000, 430.0, 645.0 )\n",
    "activityAtTime, necrAtTime = NECRatTimeBetterWithZ( tracerData, crystalData, ep.Lu176decaysInMass( ep.DetectorMass() ), ep.DetectorRadius(), coincidenceWindow=4.5E-9 )\n",
    "mpl.plot( activityAtTime, necrAtTime, label=labels[1] )\n",
    "\n",
    "mpl.legend( labels )\n",
    "mpl.show()"
   ]
  },
  {
   "cell_type": "code",
   "execution_count": 5,
   "metadata": {},
   "outputs": [
    {
     "name": "stdout",
     "output_type": "stream",
     "text": [
      "Siemens Quadra mass : 368574.46400000004\n",
      "Siemens Quadra background (Bq) : 14726005.989989998\n",
      "Explorer mass : 552590.79579648\n",
      "Explorer background (Bq) : 20646468.60786598\n"
     ]
    }
   ],
   "source": [
    "# Debug information about the background\n",
    "print( \"Siemens Quadra mass :\", sqp.DetectorMass() )\n",
    "print( \"Siemens Quadra background (Bq) :\", sqp.Lu176decaysInMass( sqp.DetectorMass() ) )\n",
    "print( \"Explorer mass :\", ep.DetectorMass() )\n",
    "print( \"Explorer background (Bq) :\", ep.Lu176decaysInMass( ep.DetectorMass() ) )"
   ]
  },
  {
   "cell_type": "code",
   "execution_count": null,
   "metadata": {},
   "outputs": [],
   "source": []
  }
 ],
 "metadata": {
  "kernelspec": {
   "display_name": "Python 3",
   "language": "python",
   "name": "python3"
  },
  "language_info": {
   "codemirror_mode": {
    "name": "ipython",
    "version": 3
   },
   "file_extension": ".py",
   "mimetype": "text/x-python",
   "name": "python",
   "nbconvert_exporter": "python",
   "pygments_lexer": "ipython3",
   "version": "3.8.10"
  }
 },
 "nbformat": 4,
 "nbformat_minor": 4
}
