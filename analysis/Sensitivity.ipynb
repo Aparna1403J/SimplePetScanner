import math
import numpy as np
import pandas as pd
import matplotlib.pyplot as mpl
import SiemensQuadraProperties as sqp
import ExplorerProperties as ep
from ActivityToolsForSensitivity import *
from PhysicsConstants import *
from SimulationDatasetForSensitivity import *

params = {'legend.fontsize': 15,
          'legend.title_fontsize': 15,
          'legend.loc': "upper right",
          'axes.labelsize': 15,
          'xtick.labelsize': 15,
          'ytick.labelsize': 15}
mpl.rcParams.update(params)

import random
random.seed(1234)

def LORMidPoints(TruesPlusScatterEvents):
    zmids = []
    for event in TruesPlusScatterEvents:
        e1 = event[0][2]
        e2 = event[1][2]
        if 435 <= e1 <= 585 and 435 <= e2 <= 585:
            z1 = event[0][6]
            z2 = event[1][6]
            zmid = (z1 + z2) / 2
            zmids.append(zmid)
    return zmids    

def GetSliceInfo(zmids, z_min=-512, slice_thickness=1.6, num_slices=640):
    slice_counts = [0] * num_slices
    for zmid in zmids:
        if z_min <= zmid < (z_min + num_slices * slice_thickness):
            slice_index = int((zmid - z_min) / slice_thickness)
            slice_counts[slice_index] += (2/0.219) 
        else:
            continue
    return slice_counts

import csv

def CountsforSleeve():
    Tj = 0

    Counts = []

    TPlusS_df = pd.DataFrame(TruesPlusScatterEvents)
    print("No. of rows in TPlusS_df is", TPlusS_df.shape[0])
    print(TPlusS_df.shape[1])
    
    EventID = [row[0] for row in TPlusS_df[0]] + [row[0] for row in TPlusS_df[1]]    
    Energy = [row[2] for row in TPlusS_df[0]] + [row[2] for row in TPlusS_df[1]]
    R = [row[4] for row in TPlusS_df[0]] + [row[4] for row in TPlusS_df[1]]
    Phi = [row[5] for row in TPlusS_df[0]] + [row[5] for row in TPlusS_df[1]]
    Z = [row[6] for row in TPlusS_df[0]] + [row[6] for row in TPlusS_df[1]]
    TPlusS_df_filtered = pd.DataFrame({'EventID': EventID, 'Energy': Energy, 'R': R, 'Phi': Phi, 'Z': Z})
    TPlusS_df_filtered = TPlusS_df_filtered[(TPlusS_df_filtered['Energy'] >= 435.0) & (TPlusS_df_filtered['Energy'] <= 585.0)]
    
    print(TPlusS_df_filtered.head())
    print(TPlusS_df_filtered.shape[0])

    Counts = (TPlusS_df_filtered.shape[0]) / 0.219
        
    Tacq = 0.219
    
    return Counts, Tj, Tacq

phantomLength = 700
datasetSize = 1000000
Emin = 435.0
Emax = 585.0
detectorMaterial = "LSO"

SleeveNumber = [1, 2, 3, 4, 5]

RTotal = []
R_Corrected = []

for nSleeves in SleeveNumber:
    tracerData = CreateDataset(1024, "Siemens", phantomLength, "LinearF18", datasetSize, Emin, Emax, detectorMaterial, "activate", nSleeves)
    crystalData = CreateDataset(1024, "Siemens", phantomLength, "Siemens", datasetSize, Emin, Emax, detectorMaterial, "activate", nSleeves)

    activity = F18ActivityAtTime(4.56E6, 0.219)
    crystalActivity = sqp.Lu176decaysInMass(sqp.DetectorMass(detectorMaterial))

    randomCounts, RandomEvents, TruesPlusScatterEvents, trues, scatters = RandomCountsForSensitivity([activity, crystalActivity], [tracerData, crystalData], SimulationWindow=0.219, CoincidenceWindow=4.7E-9,
        DetectorRadius=sqp.DetectorRadius(), ZMin=-325, ZMax=325, UsePhotonTime=True, EnergyResolution=0.101, TimeResolution=0.214)
    print(randomCounts)
    print(trues)
    print(scatters)
    
    LORMidpoints = LORMidPoints(TruesPlusScatterEvents)

    SliceInfo = GetSliceInfo(LORMidpoints)
    
    with open('Counts_'+str(nSleeves)+'Sleeves.txt', 'w+') as h:
       for items in SliceInfo:
           h.write("%s\n" % items)    
       print("Counts file written successfully")
    h.close()
    
    Counts, Tj, Tacq = CountsforSleeve()

    # For measurements without scatters 
    # RwithoutScatters = RTotalforThisConfiguration - scatters

    # RTotal.append(RwithoutScatters)
    RTotal.append(Counts)
    print(RTotal)

    with open('RTotal.txt', 'a+') as b:
        b.write(str(nSleeves) + " " + str(Counts) + "\n")

    Tcal = 0
    RTotalCorrected = (((Tacq * (math.log(2))) * np.exp(
        ((Tj - Tcal) / halflives['F18']) * math.log(2))) / (halflives['F18'] * (1 - np.exp(-Tacq / halflives['F18'] * math.log(2))))) * Counts
    print(RTotalCorrected)
    R_Corrected.append(RTotalCorrected)

    with open('CorrectedR.txt', 'a+') as p:
        p.write(str(nSleeves) + " " + str(RTotalCorrected) + "\n")

from scipy.optimize import curve_fit

def equation(X_j, R_0, b):
    return R_0 * np.exp(-b * 2 * X_j)

X_j = np.array([2.5, 5.0, 7.5, 10.0, 12.5])
R_j = np.loadtxt("CorrectedR.txt", usecols=1)
print(R_j)

initial_R_0 = 175000.0
initial_b = 0.022

popt, pcov = curve_fit(equation, X_j, R_j, p0=(initial_R_0, initial_b))

optimal_R_0, optimal_b = popt

fit_R_j = equation(X_j, optimal_R_0, optimal_b)
print(fit_R_j)
print(pcov)

mpl.figure(figsize=(8,6))
mpl.scatter(X_j, R_j, label='Measured')
mpl.plot(X_j, fit_R_j, 'r-', label='Fit')
mpl.xlabel('X_j (mm)')
mpl.ylabel('R_j (counts/sec)')
mpl.title('Total Count Rate vs the accumulated sleeve wall thickness')
mpl.legend()
mpl.savefig('Fit.Siemens.700.png', dpi=600, bbox_inches='tight')
mpl.show()

optimal_b = optimal_b * 10

print("Optimal value for R_0:", optimal_R_0, "cps")
print("Optimal value for mu:", optimal_b, "cm^-1")

A_cal = 4.56E6
S_total = (optimal_R_0 / A_cal) * 1000
print("S_total is:", S_total, "cps/kBq")

SforEachSlice = []

CountsforFirstSleeve = np.loadtxt("Counts_1Sleeves.txt")
Rtotal = np.loadtxt("RTotal.txt", usecols=1)

for counts in CountsforFirstSleeve:
    RSlice = counts
    SSlice = (RSlice / Rtotal[0]) * S_total * 1000
    SforEachSlice.append(SSlice)

SliceNum = np.arange(1, 641, 1)

mpl.figure(figsize=(8, 6))
for i in range(len(SforEachSlice)):
    y = SforEachSlice[i]
    x = SliceNum[i]
    mpl.plot(x, y, 'ro-')
mpl.xlabel('Slice number')    
mpl.ylabel('Sensitivity [cps/kBq]')
mpl.xlim(0,650)
#mpl.ylim(0,600)
mpl.title('Axial Sensitivity Profile')
mpl.savefig('Siemens.700.png', dpi = 600, bbox_inches='tight')
mpl.show()
